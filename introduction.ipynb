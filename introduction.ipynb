{
  "nbformat": 4,
  "nbformat_minor": 0,
  "metadata": {
    "colab": {
      "name": "Untitled0.ipynb",
      "provenance": [],
      "collapsed_sections": [],
      "authorship_tag": "ABX9TyPx3mRnm9ywe5nr6KAiL3e6",
      "include_colab_link": true
    },
    "kernelspec": {
      "name": "python3",
      "display_name": "Python 3"
    }
  },
  "cells": [
    {
      "cell_type": "markdown",
      "metadata": {
        "id": "view-in-github",
        "colab_type": "text"
      },
      "source": [
        "<a href=\"https://colab.research.google.com/github/mjmanishjoshi/tfnotebooks/blob/master/introduction.ipynb\" target=\"_parent\"><img src=\"https://colab.research.google.com/assets/colab-badge.svg\" alt=\"Open In Colab\"/></a>"
      ]
    },
    {
      "cell_type": "markdown",
      "metadata": {
        "id": "zgz_s6YB70cp",
        "colab_type": "text"
      },
      "source": [
        "# Introduction to Machine Learning\n",
        "## Analyze your Data Set\n",
        "In the fashion MNIST example our data set includes 70,000 images (28x28 each) belonging to one of 10 categories. Our objective is to create a model that can classify a given image to one of the 10 categories.\n",
        "\n",
        "Lets start with the boilerplate - "
      ]
    },
    {
      "cell_type": "code",
      "metadata": {
        "id": "khVsTbtZ8-0e",
        "colab_type": "code",
        "colab": {}
      },
      "source": [
        "# TensorFlow and tf.keras\n",
        "import tensorflow as tf\n",
        "from tensorflow import keras\n",
        "\n",
        "# Helper libraries\n",
        "import numpy as np"
      ],
      "execution_count": 0,
      "outputs": []
    },
    {
      "cell_type": "markdown",
      "metadata": {
        "id": "xnp2Nzed9XKy",
        "colab_type": "text"
      },
      "source": [
        "Load the fashion MNIST data set -"
      ]
    },
    {
      "cell_type": "code",
      "metadata": {
        "id": "ngjDiM-Z9ikO",
        "colab_type": "code",
        "colab": {}
      },
      "source": [
        "fashion_mnist = keras.datasets.fashion_mnist\n",
        "\n",
        "(train_images, train_labels), (test_images, test_labels) = fashion_mnist.load_data()"
      ],
      "execution_count": 0,
      "outputs": []
    },
    {
      "cell_type": "markdown",
      "metadata": {
        "id": "0IENqrsoVXUz",
        "colab_type": "text"
      },
      "source": [
        "Analyze the training and test data set -"
      ]
    },
    {
      "cell_type": "code",
      "metadata": {
        "id": "R6u5xYjY-J6r",
        "colab_type": "code",
        "outputId": "d00877b4-c73b-43ae-c3ef-1d588edae3e4",
        "colab": {
          "base_uri": "https://localhost:8080/",
          "height": 52
        }
      },
      "source": [
        "print(train_images.shape, train_labels.shape)\n",
        "print(test_images.shape, test_labels.shape)"
      ],
      "execution_count": 0,
      "outputs": [
        {
          "output_type": "stream",
          "text": [
            "(60000, 28, 28) (60000,)\n",
            "(10000, 28, 28) (10000,)\n"
          ],
          "name": "stdout"
        }
      ]
    }
  ]
}